{
 "cells": [
  {
   "cell_type": "code",
   "execution_count": 47,
   "metadata": {
    "ExecuteTime": {
     "end_time": "2021-09-17T02:44:00.881323Z",
     "start_time": "2021-09-17T02:44:00.810351Z"
    }
   },
   "outputs": [],
   "source": [
    "import geopandas as gpd\n",
    "line = gpd.read_file(r'/Users/yuqing/Nutstore Files/pythonx/轨道用地评价/data/厦门地铁/厦门地铁.shp')\n",
    "results = []\n",
    "for i in [0,2,4]:\n",
    "    name = line['linename'].iloc[i].split('(')[0]\n",
    "    r = line['geometry'].iloc[i]\n",
    "    import pandas as pd\n",
    "    coords = pd.DataFrame(r.coords)\n",
    "    import CoordinatesConverter\n",
    "    coords[0],coords[1] = CoordinatesConverter.wgs84tobd09(coords[0],coords[1])\n",
    "    data = coords.values.tolist()\n",
    "    results.append({'coords':data,'name':name})\n",
    "import json\n",
    "f = open('data/metroline.json',mode = 'w')\n",
    "json.dump(results,f)\n",
    "f.close()"
   ]
  },
  {
   "cell_type": "code",
   "execution_count": 16,
   "metadata": {
    "ExecuteTime": {
     "end_time": "2021-09-21T11:19:51.516370Z",
     "start_time": "2021-09-21T11:19:51.503054Z"
    }
   },
   "outputs": [],
   "source": [
    "import geopandas as gpd\n",
    "import pandas as pd\n",
    "import CoordinatesConverter\n",
    "station = pd.read_csv(r'/Users/yuqing/Nutstore Files/pythonx/轨道用地评价/xiamenmetro/轨道站点.csv')\n",
    "station.columns = ['id','name','lon','lat','line','type']\n"
   ]
  },
  {
   "cell_type": "code",
   "execution_count": 17,
   "metadata": {
    "ExecuteTime": {
     "end_time": "2021-09-21T11:19:51.933528Z",
     "start_time": "2021-09-21T11:19:51.870117Z"
    }
   },
   "outputs": [
    {
     "name": "stderr",
     "output_type": "stream",
     "text": [
      "<ipython-input-17-8c81f386ee03>:4: SettingWithCopyWarning: \n",
      "A value is trying to be set on a copy of a slice from a DataFrame.\n",
      "Try using .loc[row_indexer,col_indexer] = value instead\n",
      "\n",
      "See the caveats in the documentation: https://pandas.pydata.org/pandas-docs/stable/user_guide/indexing.html#returning-a-view-versus-a-copy\n",
      "  station1['lon'],station1['lat'] = CoordinatesConverter.wgs84tobd09(station1['lon'],station1['lat'])\n"
     ]
    }
   ],
   "source": [
    "datas = []\n",
    "for t in station['type'].drop_duplicates():\n",
    "    station1 = station[station['type'] == t]\n",
    "    station1['lon'],station1['lat'] = CoordinatesConverter.wgs84tobd09(station1['lon'],station1['lat'])\n",
    "    data = list(station1.apply(lambda r:{'value':[r['lon'],r['lat']],'name':r['name'],'type':t},axis = 1))\n",
    "    datas.append(data)\n",
    "import json\n",
    "f = open('data/metrostop.json',mode = 'w')\n",
    "json.dump(datas,f)\n",
    "f.close()"
   ]
  },
  {
   "cell_type": "code",
   "execution_count": 14,
   "metadata": {
    "ExecuteTime": {
     "end_time": "2021-09-21T11:17:41.311942Z",
     "start_time": "2021-09-21T11:17:41.284774Z"
    }
   },
   "outputs": [
    {
     "data": {
      "text/plain": [
       "[[{'value': [117.95445421020702, 24.588575395634017],\n",
       "   'name': '天竺山站',\n",
       "   'type': '已开通'},\n",
       "  {'value': [117.96519860282599, 24.576305840875367],\n",
       "   'name': '东孚站',\n",
       "   'type': '已开通'},\n",
       "  {'value': [117.97989059216222, 24.558871435314856],\n",
       "   'name': '东瑶站',\n",
       "   'type': '已开通'},\n",
       "  {'value': [117.99201867012523, 24.55648338954571],\n",
       "   'name': '鼎美站',\n",
       "   'type': '已开通'},\n",
       "  {'value': [118.01334545064475, 24.54643272181863],\n",
       "   'name': '新阳大道站',\n",
       "   'type': '已开通'},\n",
       "  {'value': [118.0223139940808, 24.53945027973551],\n",
       "   'name': '新垵站',\n",
       "   'type': '已开通'},\n",
       "  {'value': [118.03236884754388, 24.534965638732725],\n",
       "   'name': '翁角路站',\n",
       "   'type': '已开通'},\n",
       "  {'value': [118.04811377316783, 24.502666805914146],\n",
       "   'name': '马青路站',\n",
       "   'type': '已开通'},\n",
       "  {'value': [118.05112778135644, 24.496369781504022],\n",
       "   'name': '海沧行政中心站',\n",
       "   'type': '已开通'},\n",
       "  {'value': [118.05677516097907, 24.490443786882853],\n",
       "   'name': '海沧商务中心站',\n",
       "   'type': '已开通'},\n",
       "  {'value': [118.06833092379964, 24.494123863527804],\n",
       "   'name': '海沧湾公园站',\n",
       "   'type': '已开通'},\n",
       "  {'value': [118.09525648990501, 24.494812892023468],\n",
       "   'name': '邮轮中心站',\n",
       "   'type': '已开通'},\n",
       "  {'value': [118.10177296049278, 24.488139553204416],\n",
       "   'name': '建业路站',\n",
       "   'type': '已开通'},\n",
       "  {'value': [118.11297145857631, 24.490385024521615],\n",
       "   'name': '湖滨中路站',\n",
       "   'type': '已开通'},\n",
       "  {'value': [118.12419672744417, 24.49302534169705],\n",
       "   'name': '体育中心站',\n",
       "   'type': '已开通'},\n",
       "  {'value': [118.13091110349029, 24.494634440227802],\n",
       "   'name': '育秀东路站',\n",
       "   'type': '已开通'},\n",
       "  {'value': [118.1563151139252, 24.501132155312405],\n",
       "   'name': '江头站',\n",
       "   'type': '已开通'},\n",
       "  {'value': [118.16383432498031, 24.498681926044455],\n",
       "   'name': '后埔站',\n",
       "   'type': '已开通'},\n",
       "  {'value': [118.17125922557571, 24.49629347624436],\n",
       "   'name': '蔡塘站',\n",
       "   'type': '已开通'},\n",
       "  {'value': [118.18152865166995, 24.494869619807066],\n",
       "   'name': '古地石站',\n",
       "   'type': '已开通'},\n",
       "  {'value': [118.19201348179887, 24.493768540198683],\n",
       "   'name': '岭兜站',\n",
       "   'type': '已开通'},\n",
       "  {'value': [118.20243253141295, 24.490768248579922],\n",
       "   'name': '软件园二期站',\n",
       "   'type': '已开通'},\n",
       "  {'value': [118.21052583584483, 24.502897401130333],\n",
       "   'name': '观音山站',\n",
       "   'type': '已开通'},\n",
       "  {'value': [118.21084144728499, 24.50889637186487],\n",
       "   'name': '东宅站',\n",
       "   'type': '已开通'},\n",
       "  {'value': [118.2117242028762, 24.51517964754917],\n",
       "   'name': '两岸金融中心站',\n",
       "   'type': '已开通'},\n",
       "  {'value': [118.20735955415647, 24.52156847427169],\n",
       "   'name': '五通站',\n",
       "   'type': '已开通'},\n",
       "  {'value': [118.20140648131377, 24.526270172186955],\n",
       "   'name': '湿地公园站',\n",
       "   'type': '已开通'},\n",
       "  {'value': [118.19122165786855, 24.533515600226973],\n",
       "   'name': '钟宅站',\n",
       "   'type': '已开通'},\n",
       "  {'value': [118.1850578425456, 24.54153345882493],\n",
       "   'name': '五缘湾站',\n",
       "   'type': '已开通'},\n",
       "  {'value': [118.0033099480697, 24.5553073158445],\n",
       "   'name': '马銮中心站',\n",
       "   'type': '已开通'},\n",
       "  {'value': [118.21037595993565, 24.49538045029132],\n",
       "   'name': '何厝站',\n",
       "   'type': '已开通'},\n",
       "  {'value': [118.0914907040447, 24.647260842323792],\n",
       "   'name': '厦门北站',\n",
       "   'type': '已开通'},\n",
       "  {'value': [118.08440080543848, 24.636035920229798],\n",
       "   'name': '天水路',\n",
       "   'type': '已开通'},\n",
       "  {'value': [118.07344524706839, 24.629677425425783],\n",
       "   'name': '集美大道站',\n",
       "   'type': '已开通'},\n",
       "  {'value': [118.06603092123446, 24.62309080652735],\n",
       "   'name': '集美软件园站',\n",
       "   'type': '已开通'},\n",
       "  {'value': [118.07239304125275, 24.6131135442906],\n",
       "   'name': '诚毅广场站',\n",
       "   'type': '已开通'},\n",
       "  {'value': [118.07685105531715, 24.60291084125441],\n",
       "   'name': '官任站',\n",
       "   'type': '已开通'},\n",
       "  {'value': [118.07528016071618, 24.591217387527028],\n",
       "   'name': '杏锦路站',\n",
       "   'type': '已开通'},\n",
       "  {'value': [118.07949875749412, 24.586992955425963],\n",
       "   'name': '杏林村站',\n",
       "   'type': '已开通'},\n",
       "  {'value': [118.08484390543482, 24.57991781504611],\n",
       "   'name': '园博苑站',\n",
       "   'type': '已开通'},\n",
       "  {'value': [118.11052484394186, 24.573764435645906],\n",
       "   'name': '集美学村',\n",
       "   'type': '已开通'},\n",
       "  {'value': [118.13524037570954, 24.546766769459037],\n",
       "   'name': '高崎站',\n",
       "   'type': '已开通'},\n",
       "  {'value': [118.1342225648811, 24.533851710066685],\n",
       "   'name': '殿前站',\n",
       "   'type': '已开通'},\n",
       "  {'value': [118.1368318979085, 24.52088181679341],\n",
       "   'name': '火炬园站',\n",
       "   'type': '已开通'},\n",
       "  {'value': [118.14109638710214, 24.515061140528044],\n",
       "   'name': '塘边站',\n",
       "   'type': '已开通'},\n",
       "  {'value': [118.14476425867956, 24.507635643735284],\n",
       "   'name': '乌石浦站',\n",
       "   'type': '已开通'},\n",
       "  {'value': [118.1461855726084, 24.498425018544705],\n",
       "   'name': '吕厝站',\n",
       "   'type': '已开通'},\n",
       "  {'value': [118.1412398714496, 24.492448867141185],\n",
       "   'name': '莲花路口',\n",
       "   'type': '已开通'},\n",
       "  {'value': [118.13621337945716, 24.484906309173603],\n",
       "   'name': '莲坂站',\n",
       "   'type': '已开通'},\n",
       "  {'value': [118.12980656017609, 24.483377374417387],\n",
       "   'name': '湖滨东路站',\n",
       "   'type': '已开通'},\n",
       "  {'value': [118.12184355988653, 24.47684907132692],\n",
       "   'name': '文灶站',\n",
       "   'type': '已开通'},\n",
       "  {'value': [118.11789517547415, 24.47025976264055],\n",
       "   'name': '将军祠站',\n",
       "   'type': '已开通'},\n",
       "  {'value': [118.10788506315427, 24.46529069324132],\n",
       "   'name': '中山公园站',\n",
       "   'type': '已开通'},\n",
       "  {'value': [118.10087228953402, 24.460640781520517],\n",
       "   'name': '镇海路站',\n",
       "   'type': '已开通'},\n",
       "  {'value': [118.08756229223374, 24.65354183186449],\n",
       "   'name': '岩内北广场',\n",
       "   'type': '已开通'},\n",
       "  {'value': [118.13305262839624, 24.477806697641952],\n",
       "   'name': '厦门火车站',\n",
       "   'type': '已开通'},\n",
       "  {'value': [118.12955883342015, 24.48333555514575],\n",
       "   'name': '湖滨东路',\n",
       "   'type': '已开通'},\n",
       "  {'value': [118.12367039309484, 24.49341871579204],\n",
       "   'name': '体育中心',\n",
       "   'type': '已开通'},\n",
       "  {'value': [118.12109710973004, 24.49905352546255],\n",
       "   'name': '人才中心',\n",
       "   'type': '已开通'},\n",
       "  {'value': [118.1235484112728, 24.515741457543694],\n",
       "   'name': '湖里公园',\n",
       "   'type': '已开通'},\n",
       "  {'value': [118.12668412554012, 24.520749624544322],\n",
       "   'name': '华荣路',\n",
       "   'type': '已开通'},\n",
       "  {'value': [118.13678958925362, 24.520892911765426],\n",
       "   'name': '火炬园',\n",
       "   'type': '已开通'},\n",
       "  {'value': [118.14407847035513, 24.522882840506334],\n",
       "   'name': '小东山',\n",
       "   'type': '已开通'},\n",
       "  {'value': [118.15676571418668, 24.52653892302477],\n",
       "   'name': '安兜站',\n",
       "   'type': '已开通'},\n",
       "  {'value': [118.16497251629683, 24.528043261238338],\n",
       "   'name': '坂尚',\n",
       "   'type': '已开通'},\n",
       "  {'value': [118.1741322504319, 24.531920688830176],\n",
       "   'name': '湖里创新园',\n",
       "   'type': '已开通'},\n",
       "  {'value': [118.18503195899407, 24.541645328684435],\n",
       "   'name': '五缘湾',\n",
       "   'type': '已开通'},\n",
       "  {'value': [118.24994702507429, 24.58510380770217],\n",
       "   'name': '林前',\n",
       "   'type': '已开通'},\n",
       "  {'value': [118.26212192178791, 24.587091086676146],\n",
       "   'name': '鼓锣',\n",
       "   'type': '已开通'},\n",
       "  {'value': [118.28940569448572, 24.58878862325191],\n",
       "   'name': '后村',\n",
       "   'type': '已开通'},\n",
       "  {'value': [118.2968561499658, 24.5817644924562],\n",
       "   'name': '蔡厝',\n",
       "   'type': '已开通'}],\n",
       " [{'value': [118.22659097309291, 24.566457696454496],\n",
       "   'name': '体育会展',\n",
       "   'type': '未开通'},\n",
       "  {'value': [118.23686726261693, 24.57393940859452],\n",
       "   'name': '东界',\n",
       "   'type': '未开通'},\n",
       "  {'value': [118.24291415850716, 24.57934028730477],\n",
       "   'name': '洪坑',\n",
       "   'type': '未开通'},\n",
       "  {'value': [118.27169099285793, 24.587228211076656],\n",
       "   'name': '翔安市民公园',\n",
       "   'type': '未开通'},\n",
       "  {'value': [118.28099986373505, 24.588969287219157],\n",
       "   'name': '浦边',\n",
       "   'type': '未开通'}],\n",
       " [{'value': [118.3186677264567, 24.567536623923257],\n",
       "   'name': '大嶝北站',\n",
       "   'type': '未通车'},\n",
       "  {'value': [118.33350801982718, 24.55692844447167],\n",
       "   'name': '双沪站',\n",
       "   'type': '未通车'},\n",
       "  {'value': [118.36065022533849, 24.54188302325719],\n",
       "   'name': '空港经济区',\n",
       "   'type': '未通车'},\n",
       "  {'value': [118.37325980811495, 24.54648943639018],\n",
       "   'name': '机场西',\n",
       "   'type': '未通车'},\n",
       "  {'value': [118.37822609960854, 24.549195435291573],\n",
       "   'name': '翔安机场',\n",
       "   'type': '未通车'}]]"
      ]
     },
     "execution_count": 14,
     "metadata": {},
     "output_type": "execute_result"
    }
   ],
   "source": [
    "datas"
   ]
  },
  {
   "cell_type": "markdown",
   "metadata": {
    "ExecuteTime": {
     "end_time": "2021-09-17T02:36:14.349548Z",
     "start_time": "2021-09-17T02:36:14.341682Z"
    }
   },
   "source": [
    "# 指标整理"
   ]
  },
  {
   "cell_type": "code",
   "execution_count": 49,
   "metadata": {
    "ExecuteTime": {
     "end_time": "2021-09-17T03:19:35.657478Z",
     "start_time": "2021-09-17T03:19:35.638465Z"
    }
   },
   "outputs": [],
   "source": [
    "result = pd.read_csv(r'/Users/yuqing/Nutstore Files/pythonx/轨道用地评价/result/各类指标.csv')"
   ]
  },
  {
   "cell_type": "code",
   "execution_count": 56,
   "metadata": {
    "ExecuteTime": {
     "end_time": "2021-09-17T03:21:45.416398Z",
     "start_time": "2021-09-17T03:21:45.406572Z"
    }
   },
   "outputs": [],
   "source": [
    "result = result[result.columns[1:]].set_index('站名').unstack().reset_index()"
   ]
  },
  {
   "cell_type": "code",
   "execution_count": 57,
   "metadata": {
    "ExecuteTime": {
     "end_time": "2021-09-17T03:22:02.450250Z",
     "start_time": "2021-09-17T03:22:02.446097Z"
    }
   },
   "outputs": [],
   "source": [
    "result.columns = ['type','name','value']"
   ]
  },
  {
   "cell_type": "code",
   "execution_count": 62,
   "metadata": {
    "ExecuteTime": {
     "end_time": "2021-09-17T03:23:44.802117Z",
     "start_time": "2021-09-17T03:23:44.793363Z"
    }
   },
   "outputs": [],
   "source": [
    "result = result[-result['value'].isnull()]\n",
    "indexes = result['type'].drop_duplicates()"
   ]
  },
  {
   "cell_type": "code",
   "execution_count": 67,
   "metadata": {
    "ExecuteTime": {
     "end_time": "2021-09-17T03:25:04.976780Z",
     "start_time": "2021-09-17T03:25:04.950400Z"
    }
   },
   "outputs": [],
   "source": [
    "data = list(result.apply(lambda r:{'type':r['type'],'name':r['name'],'value':r['value']},axis = 1))"
   ]
  },
  {
   "cell_type": "code",
   "execution_count": 6,
   "metadata": {
    "ExecuteTime": {
     "end_time": "2021-09-17T11:30:22.463417Z",
     "start_time": "2021-09-17T11:30:22.458379Z"
    }
   },
   "outputs": [],
   "source": [
    "import json\n",
    "data = {'name':[1,2,3]} #需要存储的json变量\n",
    "f = open('data.json',mode = 'w') #打开data.json文件，且为写入模式\n",
    "json.dump(data,f) #存储\n",
    "f.close() #关闭文件，才能保存"
   ]
  },
  {
   "cell_type": "code",
   "execution_count": 7,
   "metadata": {
    "ExecuteTime": {
     "end_time": "2021-09-17T11:30:23.058490Z",
     "start_time": "2021-09-17T11:30:23.043443Z"
    }
   },
   "outputs": [
    {
     "data": {
      "text/plain": [
       "{'name': [1, 2, 3]}"
      ]
     },
     "execution_count": 7,
     "metadata": {},
     "output_type": "execute_result"
    }
   ],
   "source": [
    "f = open('data.json') #打开data.json文件\n",
    "data = json.load(f) #读取\n",
    "f.close() #关闭文件\n",
    "data"
   ]
  },
  {
   "cell_type": "code",
   "execution_count": null,
   "metadata": {},
   "outputs": [],
   "source": [
    "import json\n",
    "\n",
    "json.dump(data,f)"
   ]
  },
  {
   "cell_type": "code",
   "execution_count": 14,
   "metadata": {
    "ExecuteTime": {
     "end_time": "2021-09-17T15:11:14.254748Z",
     "start_time": "2021-09-17T15:11:14.245291Z"
    }
   },
   "outputs": [],
   "source": []
  },
  {
   "cell_type": "code",
   "execution_count": 13,
   "metadata": {
    "ExecuteTime": {
     "end_time": "2021-09-17T15:10:13.162990Z",
     "start_time": "2021-09-17T15:10:13.138615Z"
    }
   },
   "outputs": [],
   "source": [
    "?data.to_csv"
   ]
  },
  {
   "cell_type": "code",
   "execution_count": null,
   "metadata": {},
   "outputs": [],
   "source": [
    "import pandas as pd\n",
    "df = pd.DataFrame({'name':[1,2,3]})\n",
    "df.to_csv(r'data.csv',encoding = 'utf-8') #此时数据不带BOM，用excel打开会有乱码\n",
    "df.to_csv(r'data.csv',encoding = 'utf-8_sig') #此时数据带BOM，可正常用Excel打开"
   ]
  },
  {
   "cell_type": "code",
   "execution_count": 9,
   "metadata": {
    "ExecuteTime": {
     "end_time": "2021-09-17T15:09:14.909745Z",
     "start_time": "2021-09-17T15:09:14.821620Z"
    }
   },
   "outputs": [],
   "source": [
    "df.to_csv(r'data.csv',sep = '|') #以竖线为分隔符存储数据\n",
    "pd.read_csv(r'data.csv',sep = '|') #以竖线为分隔符读取数据"
   ]
  },
  {
   "cell_type": "code",
   "execution_count": 16,
   "metadata": {
    "ExecuteTime": {
     "end_time": "2021-09-18T03:55:17.418174Z",
     "start_time": "2021-09-18T03:55:17.411502Z"
    }
   },
   "outputs": [],
   "source": [
    "import pickle\n",
    "data = {'name':[1,2,3]} #需要存储的变量  \n",
    "f = open('data.pkl',mode = 'wb') #创建data.pkl文件，且为写入模式  \n",
    "pickle.dump(data,f) #存储  \n",
    "f.close() #关闭文件，才能保存  "
   ]
  },
  {
   "cell_type": "code",
   "execution_count": 19,
   "metadata": {
    "ExecuteTime": {
     "end_time": "2021-09-18T03:56:49.459390Z",
     "start_time": "2021-09-18T03:56:49.450917Z"
    }
   },
   "outputs": [
    {
     "data": {
      "text/plain": [
       "{'name': [1, 2, 3]}"
      ]
     },
     "execution_count": 19,
     "metadata": {},
     "output_type": "execute_result"
    }
   ],
   "source": [
    "f = open('data.pkl','rb') #打开data.json文件  \n",
    "data = pickle.load(f) #读取  \n",
    "f.close() #关闭文件  \n",
    "data  "
   ]
  },
  {
   "cell_type": "markdown",
   "metadata": {},
   "source": [
    "# 数据整理"
   ]
  },
  {
   "cell_type": "code",
   "execution_count": 21,
   "metadata": {
    "ExecuteTime": {
     "end_time": "2021-09-21T13:08:53.209037Z",
     "start_time": "2021-09-21T13:08:53.178487Z"
    }
   },
   "outputs": [
    {
     "data": {
      "text/html": [
       "<div>\n",
       "<style scoped>\n",
       "    .dataframe tbody tr th:only-of-type {\n",
       "        vertical-align: middle;\n",
       "    }\n",
       "\n",
       "    .dataframe tbody tr th {\n",
       "        vertical-align: top;\n",
       "    }\n",
       "\n",
       "    .dataframe thead th {\n",
       "        text-align: right;\n",
       "    }\n",
       "</style>\n",
       "<table border=\"1\" class=\"dataframe\">\n",
       "  <thead>\n",
       "    <tr style=\"text-align: right;\">\n",
       "      <th></th>\n",
       "      <th>站名</th>\n",
       "      <th>[0,100]</th>\n",
       "      <th>[100,200)</th>\n",
       "      <th>[200,300)</th>\n",
       "      <th>(300,400]</th>\n",
       "      <th>(400,500]</th>\n",
       "      <th>(500,600]</th>\n",
       "    </tr>\n",
       "  </thead>\n",
       "  <tbody>\n",
       "    <tr>\n",
       "      <th>0</th>\n",
       "      <td>东界</td>\n",
       "      <td>35.0</td>\n",
       "      <td>220</td>\n",
       "      <td>289</td>\n",
       "      <td>310</td>\n",
       "      <td>344</td>\n",
       "      <td>231</td>\n",
       "    </tr>\n",
       "    <tr>\n",
       "      <th>1</th>\n",
       "      <td>体育会展</td>\n",
       "      <td>NaN</td>\n",
       "      <td>3</td>\n",
       "      <td>7</td>\n",
       "      <td>18</td>\n",
       "      <td>138</td>\n",
       "      <td>25</td>\n",
       "    </tr>\n",
       "    <tr>\n",
       "      <th>2</th>\n",
       "      <td>后村</td>\n",
       "      <td>109.0</td>\n",
       "      <td>162</td>\n",
       "      <td>270</td>\n",
       "      <td>377</td>\n",
       "      <td>222</td>\n",
       "      <td>392</td>\n",
       "    </tr>\n",
       "    <tr>\n",
       "      <th>3</th>\n",
       "      <td>林前</td>\n",
       "      <td>6.0</td>\n",
       "      <td>64</td>\n",
       "      <td>823</td>\n",
       "      <td>1251</td>\n",
       "      <td>856</td>\n",
       "      <td>108</td>\n",
       "    </tr>\n",
       "    <tr>\n",
       "      <th>4</th>\n",
       "      <td>洪坑</td>\n",
       "      <td>1.0</td>\n",
       "      <td>12</td>\n",
       "      <td>82</td>\n",
       "      <td>98</td>\n",
       "      <td>100</td>\n",
       "      <td>576</td>\n",
       "    </tr>\n",
       "    <tr>\n",
       "      <th>5</th>\n",
       "      <td>浦边</td>\n",
       "      <td>62.0</td>\n",
       "      <td>274</td>\n",
       "      <td>422</td>\n",
       "      <td>1166</td>\n",
       "      <td>458</td>\n",
       "      <td>159</td>\n",
       "    </tr>\n",
       "    <tr>\n",
       "      <th>6</th>\n",
       "      <td>翔安市民公园</td>\n",
       "      <td>1.0</td>\n",
       "      <td>200</td>\n",
       "      <td>481</td>\n",
       "      <td>548</td>\n",
       "      <td>347</td>\n",
       "      <td>703</td>\n",
       "    </tr>\n",
       "    <tr>\n",
       "      <th>7</th>\n",
       "      <td>蔡厝</td>\n",
       "      <td>16.0</td>\n",
       "      <td>206</td>\n",
       "      <td>543</td>\n",
       "      <td>307</td>\n",
       "      <td>415</td>\n",
       "      <td>869</td>\n",
       "    </tr>\n",
       "    <tr>\n",
       "      <th>8</th>\n",
       "      <td>鼓锣</td>\n",
       "      <td>186.0</td>\n",
       "      <td>1342</td>\n",
       "      <td>1356</td>\n",
       "      <td>2777</td>\n",
       "      <td>2565</td>\n",
       "      <td>1630</td>\n",
       "    </tr>\n",
       "  </tbody>\n",
       "</table>\n",
       "</div>"
      ],
      "text/plain": [
       "       站名  [0,100]  [100,200)  [200,300)  (300,400]  (400,500]  (500,600]\n",
       "0      东界     35.0        220        289        310        344        231\n",
       "1    体育会展      NaN          3          7         18        138         25\n",
       "2      后村    109.0        162        270        377        222        392\n",
       "3      林前      6.0         64        823       1251        856        108\n",
       "4      洪坑      1.0         12         82         98        100        576\n",
       "5      浦边     62.0        274        422       1166        458        159\n",
       "6  翔安市民公园      1.0        200        481        548        347        703\n",
       "7      蔡厝     16.0        206        543        307        415        869\n",
       "8      鼓锣    186.0       1342       1356       2777       2565       1630"
      ]
     },
     "execution_count": 21,
     "metadata": {},
     "output_type": "execute_result"
    }
   ],
   "source": [
    "import geopandas as gpd\n",
    "import pandas as pd\n",
    "import CoordinatesConverter\n",
    "population = pd.read_excel(r'/Users/yuqing/Nutstore Files/pythonx/轨道用地评价/result/系统用—人口聚集指标.xlsx',sheet_name = 6)\n",
    "population\n"
   ]
  },
  {
   "cell_type": "code",
   "execution_count": 23,
   "metadata": {
    "ExecuteTime": {
     "end_time": "2021-09-21T13:09:29.310062Z",
     "start_time": "2021-09-21T13:09:29.295279Z"
    }
   },
   "outputs": [
    {
     "data": {
      "text/plain": [
       "           站名    \n",
       "[0,100]    东界          35.0\n",
       "           体育会展         NaN\n",
       "           后村         109.0\n",
       "           林前           6.0\n",
       "           洪坑           1.0\n",
       "           浦边          62.0\n",
       "           翔安市民公园       1.0\n",
       "           蔡厝          16.0\n",
       "           鼓锣         186.0\n",
       "[100,200)  东界         220.0\n",
       "           体育会展         3.0\n",
       "           后村         162.0\n",
       "           林前          64.0\n",
       "           洪坑          12.0\n",
       "           浦边         274.0\n",
       "           翔安市民公园     200.0\n",
       "           蔡厝         206.0\n",
       "           鼓锣        1342.0\n",
       "[200,300)  东界         289.0\n",
       "           体育会展         7.0\n",
       "           后村         270.0\n",
       "           林前         823.0\n",
       "           洪坑          82.0\n",
       "           浦边         422.0\n",
       "           翔安市民公园     481.0\n",
       "           蔡厝         543.0\n",
       "           鼓锣        1356.0\n",
       "(300,400]  东界         310.0\n",
       "           体育会展        18.0\n",
       "           后村         377.0\n",
       "           林前        1251.0\n",
       "           洪坑          98.0\n",
       "           浦边        1166.0\n",
       "           翔安市民公园     548.0\n",
       "           蔡厝         307.0\n",
       "           鼓锣        2777.0\n",
       "(400,500]  东界         344.0\n",
       "           体育会展       138.0\n",
       "           后村         222.0\n",
       "           林前         856.0\n",
       "           洪坑         100.0\n",
       "           浦边         458.0\n",
       "           翔安市民公园     347.0\n",
       "           蔡厝         415.0\n",
       "           鼓锣        2565.0\n",
       "(500,600]  东界         231.0\n",
       "           体育会展        25.0\n",
       "           后村         392.0\n",
       "           林前         108.0\n",
       "           洪坑         576.0\n",
       "           浦边         159.0\n",
       "           翔安市民公园     703.0\n",
       "           蔡厝         869.0\n",
       "           鼓锣        1630.0\n",
       "dtype: float64"
      ]
     },
     "execution_count": 23,
     "metadata": {},
     "output_type": "execute_result"
    }
   ],
   "source": [
    "population.set_index('站名').unstack()"
   ]
  },
  {
   "cell_type": "markdown",
   "metadata": {},
   "source": [
    "# 词云图数据"
   ]
  },
  {
   "cell_type": "code",
   "execution_count": 28,
   "metadata": {
    "ExecuteTime": {
     "end_time": "2021-09-21T13:13:57.400799Z",
     "start_time": "2021-09-21T13:13:57.366078Z"
    }
   },
   "outputs": [],
   "source": [
    "import geopandas as gpd\n",
    "import pandas as pd\n",
    "import CoordinatesConverter\n",
    "wc = pd.read_csv(r'/Users/yuqing/Nutstore Files/pythonx/轨道用地评价/result/词云_出图.csv')\n",
    "datas = {}\n",
    "for station in wc['station'].drop_duplicates():\n",
    "    datas[station] = list(wc[wc['station'] == station].apply(lambda r:{'name':r['word'],'value':r['score']*100},axis = 1))\n",
    "import json\n",
    "f = open('data/wordcloud.json',mode = 'w')\n",
    "json.dump(datas,f)\n",
    "f.close()"
   ]
  },
  {
   "cell_type": "code",
   "execution_count": 29,
   "metadata": {
    "ExecuteTime": {
     "end_time": "2021-09-21T13:14:52.083999Z",
     "start_time": "2021-09-21T13:14:52.051627Z"
    }
   },
   "outputs": [
    {
     "data": {
      "text/plain": [
       "{'体育会展': [{'name': '便利店', 'value': 0.4405320911182978},\n",
       "  {'name': '半岛', 'value': 0.411877566605617},\n",
       "  {'name': '菜鸟', 'value': 0.31381888696595744},\n",
       "  {'name': '有限公司', 'value': 0.2873105598131489},\n",
       "  {'name': '驿站', 'value': 0.2656148817527234},\n",
       "  {'name': '发店', 'value': 0.20348540430468084},\n",
       "  {'name': '公园', 'value': 0.12015424979574467},\n",
       "  {'name': '猫咪', 'value': 0.11830363959148935},\n",
       "  {'name': '参茸', 'value': 0.11240451465021276},\n",
       "  {'name': '门窗', 'value': 0.10803317033680852},\n",
       "  {'name': '水产', 'value': 0.10430524939148936},\n",
       "  {'name': '置家', 'value': 0.10174270215234042},\n",
       "  {'name': '地产', 'value': 0.09662608122212764},\n",
       "  {'name': '自然村', 'value': 0.09370473101361702},\n",
       "  {'name': '专营店', 'value': 0.09324458444936168},\n",
       "  {'name': '服务站', 'value': 0.09280804577361702},\n",
       "  {'name': '拉面', 'value': 0.09057515841702128},\n",
       "  {'name': '小学', 'value': 0.08904360580685107},\n",
       "  {'name': '母婴', 'value': 0.08804535821702128},\n",
       "  {'name': '五金', 'value': 0.0859065120187234},\n",
       "  {'name': '宠物', 'value': 0.08467603347565958},\n",
       "  {'name': '理发店', 'value': 0.08451392117804256},\n",
       "  {'name': '集团', 'value': 0.08389096968714893},\n",
       "  {'name': '专卖店', 'value': 0.07972832475591489},\n",
       "  {'name': '洗衣', 'value': 0.0785348835532766},\n",
       "  {'name': '水电', 'value': 0.06804524088442553},\n",
       "  {'name': '社区', 'value': 0.06514528414034043},\n",
       "  {'name': '隧道', 'value': 0.06496576258238297},\n",
       "  {'name': '码头', 'value': 0.062076829496},\n",
       "  {'name': '中心', 'value': 0.06153324686885106}],\n",
       " '东界': [{'name': '有限公司', 'value': 0.4674321800037},\n",
       "  {'name': '国际', 'value': 0.23005089262337144},\n",
       "  {'name': '便利店', 'value': 0.197190555072},\n",
       "  {'name': '菜鸟', 'value': 0.17558913913571428},\n",
       "  {'name': '五金', 'value': 0.15862023826314287},\n",
       "  {'name': '科技', 'value': 0.14164095683995714},\n",
       "  {'name': '驿站', 'value': 0.14012540190424286},\n",
       "  {'name': '半岛', 'value': 0.13827318307474287},\n",
       "  {'name': '母婴', 'value': 0.08867425363285715},\n",
       "  {'name': '社区', 'value': 0.08748081013131427},\n",
       "  {'name': '门窗', 'value': 0.08462598343050001},\n",
       "  {'name': '分店', 'value': 0.071639118865},\n",
       "  {'name': '水电', 'value': 0.06853127831931427},\n",
       "  {'name': '发店', 'value': 0.06831295715942856},\n",
       "  {'name': '大厦', 'value': 0.06661394950217142},\n",
       "  {'name': '体育彩票', 'value': 0.06291603368057143},\n",
       "  {'name': '专营店', 'value': 0.06260707813028571},\n",
       "  {'name': '服务站', 'value': 0.06231397359085715},\n",
       "  {'name': '电子商务', 'value': 0.058431184824071426},\n",
       "  {'name': '中心', 'value': 0.05508690672068572},\n",
       "  {'name': '广告', 'value': 0.05266228381678572},\n",
       "  {'name': '星尚', 'value': 0.05123471786957142},\n",
       "  {'name': '辉源', 'value': 0.05123471786957142},\n",
       "  {'name': '华论', 'value': 0.05123471786957142},\n",
       "  {'name': '鼓岩', 'value': 0.05123471786957142},\n",
       "  {'name': '广场', 'value': 0.050822071478357135},\n",
       "  {'name': '电子科技', 'value': 0.048264087096},\n",
       "  {'name': '集团', 'value': 0.042245095449600006},\n",
       "  {'name': '工程', 'value': 0.04073670651607143},\n",
       "  {'name': '建材', 'value': 0.04055527082497143}],\n",
       " '洪坑': [{'name': '有限公司', 'value': 0.4936439800723293},\n",
       "  {'name': '国际', 'value': 0.22156470768054884},\n",
       "  {'name': '便利店', 'value': 0.2001822904010709},\n",
       "  {'name': '菜鸟', 'value': 0.16454136197456493},\n",
       "  {'name': '五金', 'value': 0.162152854011245},\n",
       "  {'name': '科技', 'value': 0.14053673960024096},\n",
       "  {'name': '驿站', 'value': 0.13130894422084335},\n",
       "  {'name': '半岛', 'value': 0.12957326392546184},\n",
       "  {'name': '母婴', 'value': 0.08309501679116467},\n",
       "  {'name': '社区', 'value': 0.08197666277365462},\n",
       "  {'name': '门窗', 'value': 0.07930145702991967},\n",
       "  {'name': '分店', 'value': 0.06713170442503348},\n",
       "  {'name': '水电', 'value': 0.0642194040475502},\n",
       "  {'name': '发店', 'value': 0.0640148192926372},\n",
       "  {'name': '大厦', 'value': 0.062422710376867474},\n",
       "  {'name': '营销中心', 'value': 0.06030318780401608},\n",
       "  {'name': '体育彩票', 'value': 0.058957461280321276},\n",
       "  {'name': '专营店', 'value': 0.0586679447004016},\n",
       "  {'name': '服务站', 'value': 0.0583932818120482},\n",
       "  {'name': '中心', 'value': 0.05807354624168674},\n",
       "  {'name': '电子商务', 'value': 0.05475479166914325},\n",
       "  {'name': '工程', 'value': 0.053443068789491295},\n",
       "  {'name': '广告', 'value': 0.049348860337014716},\n",
       "  {'name': '星尚', 'value': 0.048011114469477915},\n",
       "  {'name': '辉源', 'value': 0.048011114469477915},\n",
       "  {'name': '华论', 'value': 0.048011114469477915},\n",
       "  {'name': '鼓岩', 'value': 0.048011114469477915},\n",
       "  {'name': '广场', 'value': 0.04762443110421687},\n",
       "  {'name': '建材', 'value': 0.047504500631659966},\n",
       "  {'name': '电子科技', 'value': 0.045227390853012056}],\n",
       " '林前': [{'name': '有限公司', 'value': 0.42234409426463737},\n",
       "  {'name': '五金', 'value': 0.18856951401912087},\n",
       "  {'name': '国际', 'value': 0.18187784245864835},\n",
       "  {'name': '便利店', 'value': 0.16432546256},\n",
       "  {'name': '菜鸟', 'value': 0.14857542542252747},\n",
       "  {'name': '科技', 'value': 0.12818186139362636},\n",
       "  {'name': '驿站', 'value': 0.12738672900385714},\n",
       "  {'name': '半岛', 'value': 0.10636398698057144},\n",
       "  {'name': '建材', 'value': 0.10138817706242856},\n",
       "  {'name': '门窗', 'value': 0.09299558618736264},\n",
       "  {'name': '社区', 'value': 0.07570454722902198},\n",
       "  {'name': '广告', 'value': 0.0729170083617033},\n",
       "  {'name': '母婴', 'value': 0.06821096433296704},\n",
       "  {'name': '机电', 'value': 0.055942267580901095},\n",
       "  {'name': '分店', 'value': 0.05510701451153847},\n",
       "  {'name': '驾校', 'value': 0.054027427426373634},\n",
       "  {'name': '发店', 'value': 0.05254842858417582},\n",
       "  {'name': '大厦', 'value': 0.05124149961705495},\n",
       "  {'name': '营销中心', 'value': 0.049501627790769234},\n",
       "  {'name': '陶瓷', 'value': 0.049269707995318685},\n",
       "  {'name': '专营店', 'value': 0.04815929086945055},\n",
       "  {'name': '中心', 'value': 0.0476713615852088},\n",
       "  {'name': '电子商务', 'value': 0.044947065249285725},\n",
       "  {'name': '水电', 'value': 0.04393030661494505},\n",
       "  {'name': '工程', 'value': 0.043870299325},\n",
       "  {'name': '家具厂', 'value': 0.03941132143813186},\n",
       "  {'name': '门业', 'value': 0.03941132143813186},\n",
       "  {'name': '花坊', 'value': 0.03941132143813186},\n",
       "  {'name': '星尚', 'value': 0.03941132143813186},\n",
       "  {'name': '辉源', 'value': 0.03941132143813186}],\n",
       " '鼓锣': [{'name': '有限公司', 'value': 0.4180679972513313},\n",
       "  {'name': '五金', 'value': 0.18750492561362228},\n",
       "  {'name': '国际', 'value': 0.17080375297974199},\n",
       "  {'name': '便利店', 'value': 0.1543200938385965},\n",
       "  {'name': '菜鸟', 'value': 0.13952903729050567},\n",
       "  {'name': '科技', 'value': 0.13241490531993808},\n",
       "  {'name': '驿站', 'value': 0.11963046789835913},\n",
       "  {'name': '半岛', 'value': 0.09988774835120744},\n",
       "  {'name': '建材', 'value': 0.09521490312364296},\n",
       "  {'name': '门窗', 'value': 0.08733331623374614},\n",
       "  {'name': '后村', 'value': 0.08636054955655315},\n",
       "  {'name': '社区', 'value': 0.07109508563303406},\n",
       "  {'name': '机电', 'value': 0.07004810938922601},\n",
       "  {'name': '广告', 'value': 0.06847727307445821},\n",
       "  {'name': '母婴', 'value': 0.06405776836222911},\n",
       "  {'name': '学院', 'value': 0.060434668995696585},\n",
       "  {'name': '分店', 'value': 0.05175168545459237},\n",
       "  {'name': '驾校', 'value': 0.05073783174200206},\n",
       "  {'name': '发店', 'value': 0.04934888546088751},\n",
       "  {'name': '大厦', 'value': 0.04812153214811145},\n",
       "  {'name': '营销中心', 'value': 0.04648759679009288},\n",
       "  {'name': '陶瓷', 'value': 0.04626979801417957},\n",
       "  {'name': '专营店', 'value': 0.045226991425387005},\n",
       "  {'name': '电子商务', 'value': 0.04221035023410733},\n",
       "  {'name': '职业', 'value': 0.04190823591529412},\n",
       "  {'name': '水电', 'value': 0.041255499504231165},\n",
       "  {'name': '工程', 'value': 0.041199145908926725},\n",
       "  {'name': '饭店', 'value': 0.040319416537977285},\n",
       "  {'name': '中心', 'value': 0.039794463059318885},\n",
       "  {'name': '家具厂', 'value': 0.037011664095665635}],\n",
       " '翔安市民公园': [{'name': '有限公司', 'value': 0.4157112249975156},\n",
       "  {'name': '五金', 'value': 0.1783765673153846},\n",
       "  {'name': '国际', 'value': 0.17204660773115382},\n",
       "  {'name': '菜鸟', 'value': 0.1405443213456341},\n",
       "  {'name': '科技', 'value': 0.13337842334201666},\n",
       "  {'name': '驿站', 'value': 0.12050095986851353},\n",
       "  {'name': '便利店', 'value': 0.1195715424033264},\n",
       "  {'name': '社区', 'value': 0.10344014711472974},\n",
       "  {'name': '半岛', 'value': 0.10061458227891892},\n",
       "  {'name': '建材', 'value': 0.09590773505905406},\n",
       "  {'name': '后村', 'value': 0.08698895272380458},\n",
       "  {'name': '门窗', 'value': 0.07917191797032225},\n",
       "  {'name': '机电', 'value': 0.07055781496690229},\n",
       "  {'name': '广告', 'value': 0.06897554845025987},\n",
       "  {'name': '母婴', 'value': 0.06452388517983368},\n",
       "  {'name': '驾校', 'value': 0.06388378242983367},\n",
       "  {'name': '学院', 'value': 0.06087442230439709},\n",
       "  {'name': '分店', 'value': 0.052128256970374216},\n",
       "  {'name': '饭店', 'value': 0.0487353612789605},\n",
       "  {'name': '大厦', 'value': 0.04847168882694386},\n",
       "  {'name': '工程', 'value': 0.047427350621621615},\n",
       "  {'name': '营销中心', 'value': 0.046825864126403334},\n",
       "  {'name': '陶瓷', 'value': 0.04660648053611226},\n",
       "  {'name': '电子商务', 'value': 0.04251749415472974},\n",
       "  {'name': '职业', 'value': 0.04221318149887734},\n",
       "  {'name': '中心', 'value': 0.04008402775933472},\n",
       "  {'name': '发店', 'value': 0.03728097973877339},\n",
       "  {'name': '花坊', 'value': 0.03728097973877339},\n",
       "  {'name': '星尚', 'value': 0.03728097973877339},\n",
       "  {'name': '辉源', 'value': 0.03728097973877339}],\n",
       " '浦边': [{'name': '有限公司', 'value': 0.4275677729385473},\n",
       "  {'name': '五金', 'value': 0.1955257174276029},\n",
       "  {'name': '国际', 'value': 0.1949583835791283},\n",
       "  {'name': '科技', 'value': 0.1412173049251816},\n",
       "  {'name': '菜鸟', 'value': 0.1339239196797821},\n",
       "  {'name': '驿站', 'value': 0.10795485508801453},\n",
       "  {'name': '建材', 'value': 0.1031066207414528},\n",
       "  {'name': '社区', 'value': 0.10193738468691282},\n",
       "  {'name': '后村', 'value': 0.10131158900762713},\n",
       "  {'name': '机电', 'value': 0.0821750823222276},\n",
       "  {'name': '驾校', 'value': 0.07440217759987894},\n",
       "  {'name': '门窗', 'value': 0.07171693511059324},\n",
       "  {'name': '广告', 'value': 0.07140648653123488},\n",
       "  {'name': '学院', 'value': 0.07089732960875303},\n",
       "  {'name': '便利店', 'value': 0.06962943328813559},\n",
       "  {'name': '分店', 'value': 0.060711117682203386},\n",
       "  {'name': '饭店', 'value': 0.05675958541205811},\n",
       "  {'name': '大厦', 'value': 0.056452499578111374},\n",
       "  {'name': '营销中心', 'value': 0.05453569163389831},\n",
       "  {'name': '陶瓷', 'value': 0.054280186774503636},\n",
       "  {'name': '母婴', 'value': 0.05009844838014528},\n",
       "  {'name': '电子商务', 'value': 0.0495179532407385},\n",
       "  {'name': '职业', 'value': 0.04916353583767555},\n",
       "  {'name': '工程', 'value': 0.048331685697033895},\n",
       "  {'name': '华论', 'value': 0.043419252431840194},\n",
       "  {'name': '鼓岩', 'value': 0.043419252431840194},\n",
       "  {'name': '广场', 'value': 0.04306955210030266},\n",
       "  {'name': '食品店', 'value': 0.04250648816440678},\n",
       "  {'name': '跆拳道', 'value': 0.04250648816440678},\n",
       "  {'name': '文化传媒', 'value': 0.041170926009079914}],\n",
       " '后村': [{'name': '菜鸟', 'value': 0.21658572228193831},\n",
       "  {'name': '国际', 'value': 0.20691067802028631},\n",
       "  {'name': '有限公司', 'value': 0.19447741214055067},\n",
       "  {'name': '社区', 'value': 0.1854631712585683},\n",
       "  {'name': '后村', 'value': 0.18432460907555065},\n",
       "  {'name': '驿站', 'value': 0.1767701305560132},\n",
       "  {'name': '五金', 'value': 0.15563459501189428},\n",
       "  {'name': '驾校', 'value': 0.13536607642621146},\n",
       "  {'name': '学院', 'value': 0.12898941466262112},\n",
       "  {'name': '职业', 'value': 0.08944731410114537},\n",
       "  {'name': '分店', 'value': 0.08836543296123349},\n",
       "  {'name': '饭店', 'value': 0.08605619961519824},\n",
       "  {'name': '鼓岩', 'value': 0.07899626103237885},\n",
       "  {'name': '食品店', 'value': 0.07733559300396475},\n",
       "  {'name': '跆拳道', 'value': 0.07733559300396475},\n",
       "  {'name': '便利店', 'value': 0.07600957519295154},\n",
       "  {'name': '门窗', 'value': 0.07456033782422908},\n",
       "  {'name': '体育彩票', 'value': 0.07275532529140967},\n",
       "  {'name': '服务站', 'value': 0.07205911042995597},\n",
       "  {'name': '国风', 'value': 0.06715644075132159},\n",
       "  {'name': '科技', 'value': 0.06423210014768722},\n",
       "  {'name': '工程', 'value': 0.06280989991464757},\n",
       "  {'name': '广场', 'value': 0.06268801768255508},\n",
       "  {'name': '小吃', 'value': 0.0621202730064978},\n",
       "  {'name': '居住区', 'value': 0.0583597364521586},\n",
       "  {'name': '琴行', 'value': 0.056396763714977975},\n",
       "  {'name': '水电', 'value': 0.05283248328581497},\n",
       "  {'name': '优品', 'value': 0.0526641740215859},\n",
       "  {'name': '辉源', 'value': 0.0526641740215859},\n",
       "  {'name': '水果店', 'value': 0.0526641740215859}],\n",
       " '蔡厝': [{'name': '后村', 'value': 0.6915981200024793},\n",
       "  {'name': '社区', 'value': 0.31630458208636364},\n",
       "  {'name': '菜鸟', 'value': 0.3047414811446281},\n",
       "  {'name': '学院', 'value': 0.26887600668884304},\n",
       "  {'name': '有限公司', 'value': 0.2575383911866116},\n",
       "  {'name': '驿站', 'value': 0.2210844057091736},\n",
       "  {'name': '食品店', 'value': 0.1934455053652893},\n",
       "  {'name': '便利店', 'value': 0.19012863436694213},\n",
       "  {'name': '蓄电池', 'value': 0.14868434501719008},\n",
       "  {'name': '酒业', 'value': 0.14683302173818186},\n",
       "  {'name': '机电', 'value': 0.14024094627719008},\n",
       "  {'name': '饭店', 'value': 0.12915542024892562},\n",
       "  {'name': '小学', 'value': 0.11529061908876033},\n",
       "  {'name': '家具城', 'value': 0.11488163348760333},\n",
       "  {'name': '经销部', 'value': 0.11488163348760333},\n",
       "  {'name': '电器', 'value': 0.11390526808710745},\n",
       "  {'name': '职业', 'value': 0.11187074545983472},\n",
       "  {'name': '金属门', 'value': 0.10580219308512397},\n",
       "  {'name': '母鸭', 'value': 0.10342465529669423},\n",
       "  {'name': '驾校', 'value': 0.10158049371487604},\n",
       "  {'name': '经理部', 'value': 0.1000737039892562},\n",
       "  {'name': '养猪场', 'value': 0.1000737039892562},\n",
       "  {'name': '劲面', 'value': 0.09879973142892562},\n",
       "  {'name': '号线', 'value': 0.09879973142892562},\n",
       "  {'name': '航局', 'value': 0.09879973142892562},\n",
       "  {'name': '创之纪', 'value': 0.09879973142892562},\n",
       "  {'name': '倉庫', 'value': 0.09879973142892562},\n",
       "  {'name': '水果店', 'value': 0.09879973142892562},\n",
       "  {'name': '聚缘', 'value': 0.09879973142892562},\n",
       "  {'name': '乐苗', 'value': 0.09879973142892562}]}"
      ]
     },
     "execution_count": 29,
     "metadata": {},
     "output_type": "execute_result"
    }
   ],
   "source": [
    "datas"
   ]
  }
 ],
 "metadata": {
  "kernelspec": {
   "display_name": "Python 3",
   "language": "python",
   "name": "python3"
  },
  "language_info": {
   "codemirror_mode": {
    "name": "ipython",
    "version": 3
   },
   "file_extension": ".py",
   "mimetype": "text/x-python",
   "name": "python",
   "nbconvert_exporter": "python",
   "pygments_lexer": "ipython3",
   "version": "3.8.5"
  },
  "toc": {
   "base_numbering": 1,
   "nav_menu": {},
   "number_sections": true,
   "sideBar": true,
   "skip_h1_title": false,
   "title_cell": "Table of Contents",
   "title_sidebar": "Contents",
   "toc_cell": false,
   "toc_position": {},
   "toc_section_display": true,
   "toc_window_display": false
  }
 },
 "nbformat": 4,
 "nbformat_minor": 4
}
