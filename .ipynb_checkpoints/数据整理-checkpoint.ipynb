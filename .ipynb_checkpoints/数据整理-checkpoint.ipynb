{
 "cells": [
  {
   "cell_type": "code",
   "execution_count": 47,
   "metadata": {
    "ExecuteTime": {
     "end_time": "2021-09-17T02:44:00.881323Z",
     "start_time": "2021-09-17T02:44:00.810351Z"
    }
   },
   "outputs": [],
   "source": [
    "import geopandas as gpd\n",
    "line = gpd.read_file(r'/Users/yuqing/Nutstore Files/pythonx/轨道用地评价/data/厦门地铁/厦门地铁.shp')\n",
    "results = []\n",
    "for i in [0,2,4]:\n",
    "    name = line['linename'].iloc[i].split('(')[0]\n",
    "    r = line['geometry'].iloc[i]\n",
    "    import pandas as pd\n",
    "    coords = pd.DataFrame(r.coords)\n",
    "    import CoordinatesConverter\n",
    "    coords[0],coords[1] = CoordinatesConverter.wgs84tobd09(coords[0],coords[1])\n",
    "    data = coords.values.tolist()\n",
    "    results.append({'coords':data,'name':name})\n",
    "import json\n",
    "f = open('data/metroline.json',mode = 'w')\n",
    "json.dump(results,f)\n",
    "f.close()"
   ]
  },
  {
   "cell_type": "code",
   "execution_count": 33,
   "metadata": {
    "ExecuteTime": {
     "end_time": "2021-09-17T02:40:02.982620Z",
     "start_time": "2021-09-17T02:40:02.949655Z"
    }
   },
   "outputs": [],
   "source": [
    "import geopandas as gpd\n",
    "station = pd.read_csv(r'/Users/yuqing/Nutstore Files/pythonx/轨道用地评价/demo/轨道站点.csv')\n",
    "station.columns = ['id','name','lon','lat','line']\n",
    "station['lon'],station['lat'] = CoordinatesConverter.wgs84tobd09(station['lon'],station['lat'])\n",
    "\n",
    "data = list(station.apply(lambda r:{'value':[r['lon'],r['lat']],'name':r['name']},axis = 1))\n",
    "\n",
    "import json\n",
    "f = open('data/metrostop.json',mode = 'w')\n",
    "json.dump(data,f)\n",
    "f.close()"
   ]
  },
  {
   "cell_type": "markdown",
   "metadata": {
    "ExecuteTime": {
     "end_time": "2021-09-17T02:36:14.349548Z",
     "start_time": "2021-09-17T02:36:14.341682Z"
    }
   },
   "source": [
    "# 指标整理"
   ]
  },
  {
   "cell_type": "code",
   "execution_count": 49,
   "metadata": {
    "ExecuteTime": {
     "end_time": "2021-09-17T03:19:35.657478Z",
     "start_time": "2021-09-17T03:19:35.638465Z"
    }
   },
   "outputs": [],
   "source": [
    "result = pd.read_csv(r'/Users/yuqing/Nutstore Files/pythonx/轨道用地评价/result/各类指标.csv')"
   ]
  },
  {
   "cell_type": "code",
   "execution_count": 56,
   "metadata": {
    "ExecuteTime": {
     "end_time": "2021-09-17T03:21:45.416398Z",
     "start_time": "2021-09-17T03:21:45.406572Z"
    }
   },
   "outputs": [],
   "source": [
    "result = result[result.columns[1:]].set_index('站名').unstack().reset_index()"
   ]
  },
  {
   "cell_type": "code",
   "execution_count": 57,
   "metadata": {
    "ExecuteTime": {
     "end_time": "2021-09-17T03:22:02.450250Z",
     "start_time": "2021-09-17T03:22:02.446097Z"
    }
   },
   "outputs": [],
   "source": [
    "result.columns = ['type','name','value']"
   ]
  },
  {
   "cell_type": "code",
   "execution_count": 62,
   "metadata": {
    "ExecuteTime": {
     "end_time": "2021-09-17T03:23:44.802117Z",
     "start_time": "2021-09-17T03:23:44.793363Z"
    }
   },
   "outputs": [],
   "source": [
    "result = result[-result['value'].isnull()]\n",
    "indexes = result['type'].drop_duplicates()"
   ]
  },
  {
   "cell_type": "code",
   "execution_count": 67,
   "metadata": {
    "ExecuteTime": {
     "end_time": "2021-09-17T03:25:04.976780Z",
     "start_time": "2021-09-17T03:25:04.950400Z"
    }
   },
   "outputs": [],
   "source": [
    "data = list(result.apply(lambda r:{'type':r['type'],'name':r['name'],'value':r['value']},axis = 1))"
   ]
  },
  {
   "cell_type": "code",
   "execution_count": 6,
   "metadata": {
    "ExecuteTime": {
     "end_time": "2021-09-17T11:30:22.463417Z",
     "start_time": "2021-09-17T11:30:22.458379Z"
    }
   },
   "outputs": [],
   "source": [
    "import json\n",
    "data = {'name':[1,2,3]} #需要存储的json变量\n",
    "f = open('data.json',mode = 'w') #打开data.json文件，且为写入模式\n",
    "json.dump(data,f) #存储\n",
    "f.close() #关闭文件，才能保存"
   ]
  },
  {
   "cell_type": "code",
   "execution_count": 7,
   "metadata": {
    "ExecuteTime": {
     "end_time": "2021-09-17T11:30:23.058490Z",
     "start_time": "2021-09-17T11:30:23.043443Z"
    }
   },
   "outputs": [
    {
     "data": {
      "text/plain": [
       "{'name': [1, 2, 3]}"
      ]
     },
     "execution_count": 7,
     "metadata": {},
     "output_type": "execute_result"
    }
   ],
   "source": [
    "f = open('data.json') #打开data.json文件\n",
    "data = json.load(f) #读取\n",
    "f.close() #关闭文件\n",
    "data"
   ]
  },
  {
   "cell_type": "code",
   "execution_count": null,
   "metadata": {},
   "outputs": [],
   "source": [
    "import json\n",
    "\n",
    "json.dump(data,f)"
   ]
  },
  {
   "cell_type": "code",
   "execution_count": 14,
   "metadata": {
    "ExecuteTime": {
     "end_time": "2021-09-17T15:11:14.254748Z",
     "start_time": "2021-09-17T15:11:14.245291Z"
    }
   },
   "outputs": [],
   "source": []
  },
  {
   "cell_type": "code",
   "execution_count": 13,
   "metadata": {
    "ExecuteTime": {
     "end_time": "2021-09-17T15:10:13.162990Z",
     "start_time": "2021-09-17T15:10:13.138615Z"
    }
   },
   "outputs": [],
   "source": [
    "?data.to_csv"
   ]
  },
  {
   "cell_type": "code",
   "execution_count": null,
   "metadata": {},
   "outputs": [],
   "source": [
    "import pandas as pd\n",
    "data = pd.DataFrame({'name':[1,2,3]})\n",
    "df.to_csv(r'data.csv',encoding = 'utf-8') #此时数据不带BOM，用excel打开会有乱码\n",
    "df.to_csv(r'data.csv',encoding = 'utf-8_sig') #此时数据带BOM，可正常用Excel打开"
   ]
  },
  {
   "cell_type": "code",
   "execution_count": 9,
   "metadata": {
    "ExecuteTime": {
     "end_time": "2021-09-17T15:09:14.909745Z",
     "start_time": "2021-09-17T15:09:14.821620Z"
    }
   },
   "outputs": [],
   "source": [
    "df.to_csv(r'data.csv',sep = '|') #以竖线为分隔符存储数据\n",
    "pd.read_csv(r'data.csv',sep = '|') #以竖线为分隔符读取数据"
   ]
  }
 ],
 "metadata": {
  "kernelspec": {
   "display_name": "Python 3",
   "language": "python",
   "name": "python3"
  },
  "language_info": {
   "codemirror_mode": {
    "name": "ipython",
    "version": 3
   },
   "file_extension": ".py",
   "mimetype": "text/x-python",
   "name": "python",
   "nbconvert_exporter": "python",
   "pygments_lexer": "ipython3",
   "version": "3.8.5"
  },
  "toc": {
   "base_numbering": 1,
   "nav_menu": {},
   "number_sections": true,
   "sideBar": true,
   "skip_h1_title": false,
   "title_cell": "Table of Contents",
   "title_sidebar": "Contents",
   "toc_cell": false,
   "toc_position": {},
   "toc_section_display": true,
   "toc_window_display": false
  }
 },
 "nbformat": 4,
 "nbformat_minor": 4
}
